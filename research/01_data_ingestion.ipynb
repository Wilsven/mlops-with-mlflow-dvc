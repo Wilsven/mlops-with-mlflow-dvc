{
 "cells": [
  {
   "cell_type": "code",
   "execution_count": 1,
   "metadata": {},
   "outputs": [],
   "source": [
    "import os\n",
    "\n",
    "\n",
    "os.chdir(\"../\")"
   ]
  },
  {
   "cell_type": "code",
   "execution_count": 2,
   "metadata": {},
   "outputs": [],
   "source": [
    "from dataclasses import dataclass\n",
    "from pathlib import Path\n",
    "\n",
    "\n",
    "@dataclass(frozen=True)\n",
    "class DataIngestionConfig:\n",
    "    root_dir: Path\n",
    "    source_url: str\n",
    "    local_data_file: Path\n",
    "    unzip_dir: Path\n",
    "    prefix: str"
   ]
  },
  {
   "cell_type": "code",
   "execution_count": 3,
   "metadata": {},
   "outputs": [],
   "source": [
    "from cnn_classifier.constants import *\n",
    "from cnn_classifier.utils.common import read_yaml, create_directories\n",
    "\n",
    "\n",
    "class ConfigurationManager:\n",
    "    def __init__(\n",
    "        self,\n",
    "        config_file_path: Path = CONFIG_FILE_PATH,\n",
    "        params_file_path: Path = PARAMS_FILE_PATH,\n",
    "    ):\n",
    "        self.config = read_yaml(config_file_path)\n",
    "        self.params = read_yaml(params_file_path)\n",
    "\n",
    "        create_directories([self.config.artifacts_root])\n",
    "\n",
    "    def get_data_ingestion_config(self) -> DataIngestionConfig:\n",
    "        cfg = self.config.data_ingestion\n",
    "\n",
    "        create_directories([cfg.root_dir])\n",
    "\n",
    "        data_ingestion_config = DataIngestionConfig(\n",
    "            root_dir=cfg.root_dir,\n",
    "            source_url=cfg.source_url,\n",
    "            local_data_file=cfg.local_data_file,\n",
    "            unzip_dir=cfg.unzip_dir,\n",
    "            prefix=cfg.prefix,\n",
    "        )\n",
    "        \n",
    "        return data_ingestion_config"
   ]
  },
  {
   "cell_type": "code",
   "execution_count": 4,
   "metadata": {},
   "outputs": [],
   "source": [
    "import zipfile\n",
    "\n",
    "import gdown\n",
    "\n",
    "from cnn_classifier import logger\n",
    "\n",
    "\n",
    "class DataIngestion:\n",
    "    def __init__(self, config: DataIngestionConfig):\n",
    "        self.config = config\n",
    "        \n",
    "    def download_data(self):\n",
    "        try:\n",
    "            root_dir = self.config.root_dir\n",
    "            source_url = self.config.source_url\n",
    "            local_data_file = self.config.local_data_file\n",
    "            os.makedirs(root_dir, exist_ok=True)\n",
    "            logger.info(f\"Downloading data from {source_url} into file {local_data_file}\")\n",
    "            \n",
    "            file_id = source_url.split(\"/\")[-2]\n",
    "            prefix = self.config.prefix\n",
    "            gdown.download(f\"{prefix}{file_id}\", local_data_file)\n",
    "            logger.info(f\"Downloaded data from {source_url} into file {local_data_file}\")\n",
    "            \n",
    "        except Exception as e:\n",
    "            logger.error(f\"Failed to download data: {e}\")\n",
    "            raise e\n",
    "        \n",
    "    def extract_zip_file(self):\n",
    "        unzip_dir = self.config.unzip_dir\n",
    "        os.makedirs(unzip_dir, exist_ok=True)\n",
    "        with zipfile.ZipFile(self.config.local_data_file, \"r\") as f:\n",
    "            f.extractall(unzip_dir)\n",
    "            logger.info(f\"Extracted data from {self.config.local_data_file} into {unzip_dir}\")\n",
    "        "
   ]
  },
  {
   "cell_type": "code",
   "execution_count": 5,
   "metadata": {},
   "outputs": [
    {
     "name": "stdout",
     "output_type": "stream",
     "text": [
      "[ 2024-02-20 23:51:07,734 ] 34 common cnn_classifier -  INFO - Loaded YAML file successfully from: config/config.yaml\n",
      "[ 2024-02-20 23:51:07,739 ] 34 common cnn_classifier -  INFO - Loaded YAML file successfully from: params.yaml\n",
      "[ 2024-02-20 23:51:07,742 ] 55 common cnn_classifier -  INFO - Created directory at: artifacts\n",
      "[ 2024-02-20 23:51:07,744 ] 55 common cnn_classifier -  INFO - Created directory at: artifacts/data_ingestion\n",
      "[ 2024-02-20 23:51:07,745 ] 18 3371331221 cnn_classifier -  INFO - Downloading data from https://drive.google.com/file/d/1z0mreUtRmR-P-magILsDR3T7M6IkGXtY/view?usp=sharing into file artifacts/data_ingestion/data.zip\n"
     ]
    },
    {
     "name": "stderr",
     "output_type": "stream",
     "text": [
      "Downloading...\n",
      "From (original): https://drive.google.com/uc?/export=download&id=1z0mreUtRmR-P-magILsDR3T7M6IkGXtY\n",
      "From (redirected): https://drive.google.com/uc?%2Fexport=download&id=1z0mreUtRmR-P-magILsDR3T7M6IkGXtY&confirm=t&uuid=8e57a254-595a-4c0a-81cc-98ac7b9ebb18\n",
      "To: /Users/wilsvenleong/Downloads/learning-materials/mlops-with-mlflow-dvc/artifacts/data_ingestion/data.zip\n",
      "100%|██████████| 49.0M/49.0M [00:07<00:00, 6.19MB/s]"
     ]
    },
    {
     "name": "stdout",
     "output_type": "stream",
     "text": [
      "[ 2024-02-20 23:51:17,120 ] 23 3371331221 cnn_classifier -  INFO - Downloaded data from https://drive.google.com/file/d/1z0mreUtRmR-P-magILsDR3T7M6IkGXtY/view?usp=sharing into file artifacts/data_ingestion/data.zip\n"
     ]
    },
    {
     "name": "stderr",
     "output_type": "stream",
     "text": [
      "\n"
     ]
    },
    {
     "name": "stdout",
     "output_type": "stream",
     "text": [
      "[ 2024-02-20 23:51:17,872 ] 34 3371331221 cnn_classifier -  INFO - Extracted data from artifacts/data_ingestion/data.zip into artifacts/data_ingestion\n",
      "[ 2024-02-20 23:51:17,874 ] 7 86133812 cnn_classifier -  INFO - Data ingestion completed\n"
     ]
    }
   ],
   "source": [
    "try:\n",
    "    configuration_manager = ConfigurationManager()\n",
    "    data_ingestion_config = configuration_manager.get_data_ingestion_config()\n",
    "    data_ingestion = DataIngestion(config=data_ingestion_config)\n",
    "    data_ingestion.download_data()\n",
    "    data_ingestion.extract_zip_file()\n",
    "    logger.info(\"Data ingestion completed\")\n",
    "except Exception as e:\n",
    "    logger.error(f\"Data ingestion failed: {e}\")\n",
    "    raise e"
   ]
  },
  {
   "cell_type": "code",
   "execution_count": null,
   "metadata": {},
   "outputs": [],
   "source": []
  }
 ],
 "metadata": {
  "kernelspec": {
   "display_name": "mlops-mlflow-dvc",
   "language": "python",
   "name": "python3"
  },
  "language_info": {
   "codemirror_mode": {
    "name": "ipython",
    "version": 3
   },
   "file_extension": ".py",
   "mimetype": "text/x-python",
   "name": "python",
   "nbconvert_exporter": "python",
   "pygments_lexer": "ipython3",
   "version": "3.11.7"
  }
 },
 "nbformat": 4,
 "nbformat_minor": 2
}
