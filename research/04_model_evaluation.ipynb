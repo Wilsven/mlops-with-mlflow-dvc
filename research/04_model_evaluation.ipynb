{
 "cells": [
  {
   "cell_type": "code",
   "execution_count": 1,
   "metadata": {},
   "outputs": [],
   "source": [
    "import os\n",
    "from dotenv import load_dotenv\n",
    "\n",
    "\n",
    "os.chdir(\"../\")"
   ]
  },
  {
   "cell_type": "code",
   "execution_count": 2,
   "metadata": {},
   "outputs": [],
   "source": [
    "load_dotenv()\n",
    "\n",
    "MLFLOW_TRACKING_URI = os.getenv(\"MLFLOW_TRACKING_URI\")\n",
    "MLFLOW_TRACKING_USERNAME = os.getenv(\"MLFLOW_TRACKING_USERNAME\")\n",
    "MLFLOW_TRACKING_PASSWORD = os.getenv(\"MLFLOW_TRACKING_PASSWORD\")"
   ]
  },
  {
   "cell_type": "code",
   "execution_count": 3,
   "metadata": {},
   "outputs": [],
   "source": [
    "from dataclasses import dataclass\n",
    "from pathlib import Path\n",
    "\n",
    "\n",
    "@dataclass(frozen=True)\n",
    "class ModelEvaluationConfig:\n",
    "    root_dir: Path\n",
    "    model_path: Path\n",
    "    data_path: Path\n",
    "    params: dict\n",
    "    mlflow_uri: str\n",
    "    image_size: list\n",
    "    batch_size: int"
   ]
  },
  {
   "cell_type": "code",
   "execution_count": 4,
   "metadata": {},
   "outputs": [],
   "source": [
    "from cnn_classifier.constants import *\n",
    "from cnn_classifier.utils.common import read_yaml, create_directories, save_json\n",
    "\n",
    "\n",
    "class ConfigurationManager:\n",
    "    def __init__(\n",
    "        self,\n",
    "        config_file_path: Path = CONFIG_FILE_PATH,\n",
    "        params_file_path: Path = PARAMS_FILE_PATH,\n",
    "    ):\n",
    "        self.config = read_yaml(config_file_path)\n",
    "        self.params = read_yaml(params_file_path)\n",
    "\n",
    "        create_directories([self.config.artifacts_root])\n",
    "\n",
    "    def get_model_evaluation_config(self) -> ModelEvaluationConfig:\n",
    "        cfg = self.config.model_evaluation\n",
    "        params = self.params.params\n",
    "\n",
    "        model_path = self.config.model_trainer.trained_model_file_path\n",
    "        data_path = [\n",
    "            f.path\n",
    "            for f in os.scandir(self.config.data_ingestion.unzip_dir)\n",
    "            if f.is_dir()\n",
    "        ][0]\n",
    "\n",
    "        create_directories([cfg.root_dir])\n",
    "\n",
    "        model_evaluation_config = ModelEvaluationConfig(\n",
    "            root_dir=cfg.root_dir,\n",
    "            model_path=model_path,\n",
    "            data_path=data_path,\n",
    "            params=self.params,\n",
    "            mlflow_uri=MLFLOW_TRACKING_URI,\n",
    "            image_size=params.IMAGE_SIZE,\n",
    "            batch_size=params.BATCH_SIZE,\n",
    "        )\n",
    "\n",
    "        return model_evaluation_config"
   ]
  },
  {
   "cell_type": "code",
   "execution_count": 5,
   "metadata": {},
   "outputs": [],
   "source": [
    "import mlflow\n",
    "import mlflow.keras\n",
    "import tensorflow as tf\n",
    "from urllib.parse import urlparse\n",
    "\n",
    "\n",
    "class ModelEvaluation:\n",
    "\n",
    "    def __init__(self, config: ModelEvaluationConfig):\n",
    "        self.config = config\n",
    "\n",
    "    def _val_generator(self):\n",
    "        data_generator_kwargs = dict(rescale=1 / 255, validation_split=0.30)\n",
    "        data_flow_kwargs = dict(\n",
    "            target_size=self.config.image_size[:-1],\n",
    "            batch_size=self.config.batch_size,\n",
    "            interpolation=\"bilinear\",\n",
    "        )\n",
    "\n",
    "        val_data_generator = tf.keras.preprocessing.image.ImageDataGenerator(\n",
    "            **data_generator_kwargs\n",
    "        )\n",
    "\n",
    "        self.val_generator = val_data_generator.flow_from_directory(\n",
    "            directory=self.config.data_path,\n",
    "            subset=\"validation\",\n",
    "            shuffle=False,\n",
    "            **data_flow_kwargs,\n",
    "        )\n",
    "\n",
    "    @staticmethod\n",
    "    def load_model(path: Path) -> tf.keras.Model:\n",
    "        return tf.keras.models.load_model(path)\n",
    "\n",
    "    def evaluation(self):\n",
    "        self.model = self.load_model(self.config.model_path)\n",
    "        self._val_generator()\n",
    "        self.score = self.model.evaluate(self.val_generator)\n",
    "\n",
    "    def save_score(self, path: Path, scores: dict):\n",
    "        save_json(path, data=scores)\n",
    "\n",
    "    def log_into_mlflow(self):\n",
    "        mlflow.set_registry_uri(self.config.mlflow_uri)\n",
    "        tracking_url_type_store = urlparse(mlflow.get_tracking_uri()).scheme\n",
    "\n",
    "        with mlflow.start_run():\n",
    "            scores = {\"loss\": self.score[0], \"accuracy\": self.score[1]}\n",
    "            mlflow.log_params(self.config.params)\n",
    "            mlflow.log_metrics(scores)\n",
    "            \n",
    "            # Get run id\n",
    "            run = mlflow.active_run()\n",
    "            run_id = run.info.run_id\n",
    "            # Save scores locally as well\n",
    "            path = os.path.join(self.config.root_dir, f\"scores_{run_id}.json\")\n",
    "            self.save_score(Path(path), scores)\n",
    "            \n",
    "            # Model registry does not work with file store\n",
    "            if tracking_url_type_store != \"file\":\n",
    "                # Register the model\n",
    "                # There are other ways to use the Model Registry, which depends on the use case,\n",
    "                # please refer to the doc for more information:\n",
    "                # https://mlflow.org/docs/latest/model-registry.html#api-workflow\n",
    "                mlflow.keras.log_model(\n",
    "                    self.model, \"model\", registered_model_name=\"VGG16Model\"\n",
    "                )\n",
    "            else:\n",
    "                mlflow.keras.log_model(self.model, \"model\")"
   ]
  },
  {
   "cell_type": "code",
   "execution_count": 6,
   "metadata": {},
   "outputs": [],
   "source": [
    "from cnn_classifier import logger\n",
    "\n",
    "\n",
    "class ModelEvaluationPipeline:\n",
    "\n",
    "    def run_pipeline(self):\n",
    "        try:\n",
    "            logger.info(\"Model evaluation started\")\n",
    "            configuration_manager = ConfigurationManager()\n",
    "            model_evaluation_config = (\n",
    "                configuration_manager.get_model_evaluation_config()\n",
    "            )\n",
    "            model_evaluation = ModelEvaluation(config=model_evaluation_config)\n",
    "            model_evaluation.evaluation()\n",
    "            model_evaluation.log_into_mlflow()\n",
    "            logger.info(\"Model evaluation ended\")\n",
    "\n",
    "        except Exception as e:\n",
    "            logger.error(f\"Model evaluation failed: {e}\")\n",
    "            raise e"
   ]
  },
  {
   "cell_type": "code",
   "execution_count": 7,
   "metadata": {},
   "outputs": [
    {
     "name": "stdout",
     "output_type": "stream",
     "text": [
      "[ 2024-02-28 11:44:27,379 ] 8 309999184 cnn_classifier -  INFO - Model evaluation started\n",
      "[ 2024-02-28 11:44:27,384 ] 34 common cnn_classifier -  INFO - Loaded YAML file successfully from: config/config.yaml\n",
      "[ 2024-02-28 11:44:27,386 ] 34 common cnn_classifier -  INFO - Loaded YAML file successfully from: params.yaml\n",
      "[ 2024-02-28 11:44:27,387 ] 55 common cnn_classifier -  INFO - Created directory at: artifacts\n",
      "[ 2024-02-28 11:44:27,387 ] 55 common cnn_classifier -  INFO - Created directory at: artifacts/model_evaluation\n",
      "Found 102 images belonging to 2 classes.\n",
      "7/7 [==============================] - 13s 2s/step - loss: 18.7355 - accuracy: 0.4314\n",
      "[ 2024-02-28 11:44:43,407 ] 70 common cnn_classifier -  INFO - JSON file saved at: artifacts/model_evaluation/scores_b0eb26a22d964f3eb1e5e42b8933edd0.json\n"
     ]
    },
    {
     "name": "stderr",
     "output_type": "stream",
     "text": [
      "2024/02/28 11:44:43 WARNING mlflow.tensorflow: You are saving a TensorFlow Core model or Keras model without a signature. Inference with mlflow.pyfunc.spark_udf() will not work unless the model's pyfunc representation accepts pandas DataFrames as inference inputs.\n"
     ]
    },
    {
     "name": "stdout",
     "output_type": "stream",
     "text": [
      "[ 2024-02-28 11:44:44,134 ] 801 builder_impl tensorflow -  INFO - Assets written to: /var/folders/bx/p7m1k3qn7f1cynghy4m89byw0000gn/T/tmp7gv4tcsg/model/data/model/assets\n"
     ]
    },
    {
     "name": "stderr",
     "output_type": "stream",
     "text": [
      "/Users/wilsvenleong/.local/lib/python3.11/site-packages/_distutils_hack/__init__.py:26: UserWarning: Setuptools is replacing distutils.\n",
      "  warnings.warn(\"Setuptools is replacing distutils.\")\n",
      "Registered model 'VGG16Model' already exists. Creating a new version of this model...\n",
      "2024/02/28 11:45:07 INFO mlflow.store.model_registry.abstract_store: Waiting up to 300 seconds for model version to finish creation. Model name: VGG16Model, version 2\n",
      "Created version '2' of model 'VGG16Model'.\n"
     ]
    },
    {
     "name": "stdout",
     "output_type": "stream",
     "text": [
      "[ 2024-02-28 11:45:08,045 ] 16 309999184 cnn_classifier -  INFO - Model evaluation ended\n"
     ]
    }
   ],
   "source": [
    "model_evaluation_pipeline = ModelEvaluationPipeline()\n",
    "model_evaluation_pipeline.run_pipeline()"
   ]
  },
  {
   "cell_type": "code",
   "execution_count": null,
   "metadata": {},
   "outputs": [],
   "source": []
  }
 ],
 "metadata": {
  "kernelspec": {
   "display_name": "mlops-mlflow-dvc",
   "language": "python",
   "name": "python3"
  },
  "language_info": {
   "codemirror_mode": {
    "name": "ipython",
    "version": 3
   },
   "file_extension": ".py",
   "mimetype": "text/x-python",
   "name": "python",
   "nbconvert_exporter": "python",
   "pygments_lexer": "ipython3",
   "version": "3.11.7"
  }
 },
 "nbformat": 4,
 "nbformat_minor": 2
}
